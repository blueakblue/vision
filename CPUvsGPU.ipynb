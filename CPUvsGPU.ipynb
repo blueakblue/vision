{
  "nbformat": 4,
  "nbformat_minor": 0,
  "metadata": {
    "colab": {
      "name": "CPUvsGPU.ipynb",
      "provenance": [],
      "collapsed_sections": [],
      "include_colab_link": true
    },
    "kernelspec": {
      "display_name": "Python 3",
      "language": "python",
      "name": "python3"
    },
    "language_info": {
      "codemirror_mode": {
        "name": "ipython",
        "version": 3
      },
      "file_extension": ".py",
      "mimetype": "text/x-python",
      "name": "python",
      "nbconvert_exporter": "python",
      "pygments_lexer": "ipython3",
      "version": "3.7.0"
    }
  },
  "cells": [
    {
      "cell_type": "markdown",
      "metadata": {
        "id": "view-in-github",
        "colab_type": "text"
      },
      "source": [
        "<a href=\"https://colab.research.google.com/github/blueakblue/vision/blob/main/CPUvsGPU.ipynb\" target=\"_parent\"><img src=\"https://colab.research.google.com/assets/colab-badge.svg\" alt=\"Open In Colab\"/></a>"
      ]
    },
    {
      "cell_type": "markdown",
      "metadata": {
        "id": "9BmoHn4n3bjC"
      },
      "source": [
        "# Simple MNIST convnet\n",
        "\n",
        "**Author:** [fchollet](https://twitter.com/fchollet)<br>\n",
        "**Date created:** 2015/06/19<br>\n",
        "**Last modified:** 2020/04/21<br>\n",
        "**Description:** A simple convnet that achieves ~99% test accuracy on MNIST."
      ]
    },
    {
      "cell_type": "markdown",
      "metadata": {
        "id": "7x5_p5wL3bjI"
      },
      "source": [
        "## Setup"
      ]
    },
    {
      "cell_type": "code",
      "metadata": {
        "id": "kFF9kTAW3bjJ"
      },
      "source": [
        "import numpy as np\n",
        "from tensorflow import keras\n",
        "from tensorflow.keras import layers"
      ],
      "execution_count": null,
      "outputs": []
    },
    {
      "cell_type": "markdown",
      "source": [
        "Use cv2.imshow in colab"
      ],
      "metadata": {
        "id": "jsWXfs64dhfH"
      }
    },
    {
      "cell_type": "code",
      "source": [
        "from google.colab.patches import cv2_imshow"
      ],
      "metadata": {
        "id": "qpG4uO8adUvE"
      },
      "execution_count": null,
      "outputs": []
    },
    {
      "cell_type": "markdown",
      "metadata": {
        "id": "FgSt5XYc3bjK"
      },
      "source": [
        "## Prepare the data"
      ]
    },
    {
      "cell_type": "code",
      "metadata": {
        "id": "4OaBdtAw3bjK",
        "colab": {
          "base_uri": "https://localhost:8080/"
        },
        "outputId": "3734a0cd-0ee2-49f9-b306-21c2b8baf734"
      },
      "source": [
        "# Model / data parameters\n",
        "num_classes = 10\n",
        "input_shape = (28, 28, 1)\n",
        "\n",
        "# the data, split between train and test sets\n",
        "(x_train, y_train), (x_test, y_test) = keras.datasets.mnist.load_data()\n",
        "\n",
        "# Scale images to the [0, 1] range\n",
        "x_train = x_train.astype(\"float32\") / 255\n",
        "x_test = x_test.astype(\"float32\") / 255\n",
        "# Make sure images have shape (28, 28, 1)\n",
        "x_train = np.expand_dims(x_train, -1)\n",
        "x_test = np.expand_dims(x_test, -1)\n",
        "print(\"x_train shape:\", x_train.shape)\n",
        "print(x_train.shape[0], \"train samples\")\n",
        "print(x_test.shape[0], \"test samples\")\n",
        "\n",
        "\n",
        "# convert class vectors to binary class matrices\n",
        "y_train = keras.utils.to_categorical(y_train, num_classes)\n",
        "y_test = keras.utils.to_categorical(y_test, num_classes)"
      ],
      "execution_count": null,
      "outputs": [
        {
          "output_type": "stream",
          "name": "stdout",
          "text": [
            "Downloading data from https://storage.googleapis.com/tensorflow/tf-keras-datasets/mnist.npz\n",
            "11493376/11490434 [==============================] - 0s 0us/step\n",
            "11501568/11490434 [==============================] - 0s 0us/step\n",
            "x_train shape: (60000, 28, 28, 1)\n",
            "60000 train samples\n",
            "10000 test samples\n"
          ]
        }
      ]
    },
    {
      "cell_type": "markdown",
      "metadata": {
        "id": "utoAAb043bjL"
      },
      "source": [
        "## Build the model"
      ]
    },
    {
      "cell_type": "code",
      "metadata": {
        "id": "iaf-CDAD3bjL",
        "colab": {
          "base_uri": "https://localhost:8080/"
        },
        "outputId": "da331595-e84f-48a8-9008-7c3cfde6a389"
      },
      "source": [
        "model = keras.Sequential(\n",
        "    [\n",
        "        keras.Input(shape=input_shape),\n",
        "        layers.Conv2D(32, kernel_size=(3, 3), activation=\"relu\"),\n",
        "        layers.MaxPooling2D(pool_size=(2, 2)),\n",
        "        layers.Conv2D(64, kernel_size=(3, 3), activation=\"relu\"),\n",
        "        layers.MaxPooling2D(pool_size=(2, 2)),\n",
        "        layers.Flatten(),\n",
        "        layers.Dropout(0.5),\n",
        "        layers.Dense(num_classes, activation=\"softmax\"),\n",
        "    ]\n",
        ")\n",
        "\n",
        "model.summary()"
      ],
      "execution_count": null,
      "outputs": [
        {
          "output_type": "stream",
          "name": "stdout",
          "text": [
            "Model: \"sequential\"\n",
            "_________________________________________________________________\n",
            " Layer (type)                Output Shape              Param #   \n",
            "=================================================================\n",
            " conv2d (Conv2D)             (None, 26, 26, 32)        320       \n",
            "                                                                 \n",
            " max_pooling2d (MaxPooling2D  (None, 13, 13, 32)       0         \n",
            " )                                                               \n",
            "                                                                 \n",
            " conv2d_1 (Conv2D)           (None, 11, 11, 64)        18496     \n",
            "                                                                 \n",
            " max_pooling2d_1 (MaxPooling  (None, 5, 5, 64)         0         \n",
            " 2D)                                                             \n",
            "                                                                 \n",
            " flatten (Flatten)           (None, 1600)              0         \n",
            "                                                                 \n",
            " dropout (Dropout)           (None, 1600)              0         \n",
            "                                                                 \n",
            " dense (Dense)               (None, 10)                16010     \n",
            "                                                                 \n",
            "=================================================================\n",
            "Total params: 34,826\n",
            "Trainable params: 34,826\n",
            "Non-trainable params: 0\n",
            "_________________________________________________________________\n"
          ]
        }
      ]
    },
    {
      "cell_type": "markdown",
      "metadata": {
        "id": "ArUB4dBU3bjL"
      },
      "source": [
        "## Train the model"
      ]
    },
    {
      "cell_type": "code",
      "metadata": {
        "id": "lXWjlL9L3bjM",
        "colab": {
          "base_uri": "https://localhost:8080/"
        },
        "outputId": "5698f97d-3a79-4f3f-b14a-f9a8afbe43b4"
      },
      "source": [
        "import datetime\n",
        "print(\"Training the Model ....\")\n",
        "start_time=datetime.datetime.now()\n",
        "print(\"Training started at: {}\".format(start_time))\n",
        "batch_size = 128\n",
        "epochs = 15\n",
        "\n",
        "model.compile(loss=\"categorical_crossentropy\", optimizer=\"adam\", metrics=[\"accuracy\"])\n",
        "\n",
        "model.fit(x_train, y_train, batch_size=batch_size, epochs=epochs, validation_split=0.1)\n",
        "end_time= datetime.datetime.now()\n",
        "print(\"Training ended at: {}\".format(end_time))\n",
        "duration = end_time - start_time\n",
        "print(\"Training Duration: {}\".format(duration))\n"
      ],
      "execution_count": null,
      "outputs": [
        {
          "output_type": "stream",
          "name": "stdout",
          "text": [
            "Training the Model ....\n",
            "Training started at: 2022-04-08 04:49:22.119083\n",
            "Epoch 1/15\n",
            "422/422 [==============================] - 39s 90ms/step - loss: 0.3723 - accuracy: 0.8859 - val_loss: 0.0950 - val_accuracy: 0.9733\n",
            "Epoch 2/15\n",
            "422/422 [==============================] - 38s 89ms/step - loss: 0.1224 - accuracy: 0.9625 - val_loss: 0.0666 - val_accuracy: 0.9817\n",
            "Epoch 3/15\n",
            "422/422 [==============================] - 38s 89ms/step - loss: 0.0911 - accuracy: 0.9718 - val_loss: 0.0502 - val_accuracy: 0.9868\n",
            "Epoch 4/15\n",
            "422/422 [==============================] - 39s 92ms/step - loss: 0.0746 - accuracy: 0.9772 - val_loss: 0.0433 - val_accuracy: 0.9885\n",
            "Epoch 5/15\n",
            "422/422 [==============================] - 40s 94ms/step - loss: 0.0660 - accuracy: 0.9791 - val_loss: 0.0407 - val_accuracy: 0.9900\n",
            "Epoch 6/15\n",
            "422/422 [==============================] - 40s 94ms/step - loss: 0.0591 - accuracy: 0.9814 - val_loss: 0.0346 - val_accuracy: 0.9908\n",
            "Epoch 7/15\n",
            "422/422 [==============================] - 40s 95ms/step - loss: 0.0546 - accuracy: 0.9833 - val_loss: 0.0380 - val_accuracy: 0.9892\n",
            "Epoch 8/15\n",
            "422/422 [==============================] - 40s 95ms/step - loss: 0.0510 - accuracy: 0.9843 - val_loss: 0.0347 - val_accuracy: 0.9905\n",
            "Epoch 9/15\n",
            "422/422 [==============================] - 40s 94ms/step - loss: 0.0460 - accuracy: 0.9859 - val_loss: 0.0327 - val_accuracy: 0.9907\n",
            "Epoch 10/15\n",
            "422/422 [==============================] - 39s 93ms/step - loss: 0.0441 - accuracy: 0.9863 - val_loss: 0.0317 - val_accuracy: 0.9903\n",
            "Epoch 11/15\n",
            "422/422 [==============================] - 40s 95ms/step - loss: 0.0424 - accuracy: 0.9864 - val_loss: 0.0310 - val_accuracy: 0.9915\n",
            "Epoch 12/15\n",
            "422/422 [==============================] - 40s 94ms/step - loss: 0.0404 - accuracy: 0.9874 - val_loss: 0.0292 - val_accuracy: 0.9918\n",
            "Epoch 13/15\n",
            "422/422 [==============================] - 39s 92ms/step - loss: 0.0366 - accuracy: 0.9886 - val_loss: 0.0288 - val_accuracy: 0.9922\n",
            "Epoch 14/15\n",
            "422/422 [==============================] - 38s 89ms/step - loss: 0.0369 - accuracy: 0.9879 - val_loss: 0.0298 - val_accuracy: 0.9918\n",
            "Epoch 15/15\n",
            "422/422 [==============================] - 38s 89ms/step - loss: 0.0346 - accuracy: 0.9894 - val_loss: 0.0262 - val_accuracy: 0.9927\n",
            "Training ended at: 2022-04-08 04:59:07.566493\n",
            "Training Duration: 0:09:45.447410\n"
          ]
        }
      ]
    },
    {
      "cell_type": "markdown",
      "metadata": {
        "id": "7Ozo-D8i3bjM"
      },
      "source": [
        "## Evaluate the trained model"
      ]
    },
    {
      "cell_type": "code",
      "metadata": {
        "id": "YVXt6Xem3bjM",
        "colab": {
          "base_uri": "https://localhost:8080/"
        },
        "outputId": "8266a98f-d7d1-4b08-a18f-a9d92054b2a6"
      },
      "source": [
        "score = model.evaluate(x_test, y_test, verbose=0)\n",
        "print(\"Test loss:\", score[0])\n",
        "print(\"Test accuracy:\", score[1])"
      ],
      "execution_count": null,
      "outputs": [
        {
          "output_type": "stream",
          "name": "stdout",
          "text": [
            "Test loss: 0.02620149590075016\n",
            "Test accuracy: 0.9921000003814697\n"
          ]
        }
      ]
    }
  ]
}